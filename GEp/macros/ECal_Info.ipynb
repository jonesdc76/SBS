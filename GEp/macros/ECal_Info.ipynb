{
 "cells": [
  {
   "cell_type": "code",
   "execution_count": 1,
   "id": "101dc620",
   "metadata": {},
   "outputs": [],
   "source": [
    "import tkinter as tk  # Importing gui module\n",
    "import tkinter.font as tkfont\n",
    "def button_function():  # The function that the button will run\n",
    "    print(\"Text\")\n",
    "width = 1\n",
    "height = 8\n",
    "\n",
    "nS8rows = 18\n",
    "ns8cols = 15\n",
    "\n",
    "rowlen = [9,11,11,13,15,15,15,15,15,15,15,15,15,15,13,11,11,9]\n",
    "rowoffset = [0,0,0,0,1,1,1,1,1,1,1,1,1,1,0,0,0,0]\n",
    "rowlabel = [\"a\",\"b\",\"c\",\"d\",\"e\",\"f\",\"g\",\"h\",\"i\",\"j\",\"k\",\"l\",\"m\",\"n\",\"o\",\"p\",\"q\",\"r\"]"
   ]
  },
  {
   "cell_type": "code",
   "execution_count": 2,
   "id": "ac4f072c",
   "metadata": {},
   "outputs": [],
   "source": [
    "ecal=tk.Tk()\n",
    "ecal.title(\"place() method\")\n",
    "ecal.geometry(\"550x1000\")\n",
    "pixelVirtual = tk.PhotoImage(width=1, height=1)\n",
    "buttons=[]\n",
    "labels=[]\n",
    "y = nS8rows\n",
    "row=nS8rows\n",
    "for y in rowlen:\n",
    "    for x in range(1,y+1-rowoffset[nS8rows-row]):\n",
    "        txt = \"{}{}\".format(rowlabel[nS8rows-row],x)\n",
    "        button = tk.Button(ecal,padx=width,pady=height,compound=\"c\",command=button_function,bg='blue')\n",
    "        button.grid(row=row,column=x+rowoffset[nS8rows-row])\n",
    "        buttons.append(button)\n",
    "        label = tk.Label(ecal, text=txt, font=(\"Arial\",8))\n",
    "        label.config(bg=\"white\")\n",
    "        label.config(fg=\"black\")\n",
    "        label.grid(row=row,column=x+rowoffset[nS8rows-row])\n",
    "        labels.append(label)\n",
    "    row = row - 1   \n",
    "ecal.mainloop()"
   ]
  },
  {
   "cell_type": "code",
   "execution_count": null,
   "id": "b45dfa13",
   "metadata": {},
   "outputs": [],
   "source": []
  }
 ],
 "metadata": {
  "kernelspec": {
   "display_name": "Python 3 (ipykernel)",
   "language": "python",
   "name": "python3"
  },
  "language_info": {
   "codemirror_mode": {
    "name": "ipython",
    "version": 3
   },
   "file_extension": ".py",
   "mimetype": "text/x-python",
   "name": "python",
   "nbconvert_exporter": "python",
   "pygments_lexer": "ipython3",
   "version": "3.9.12"
  }
 },
 "nbformat": 4,
 "nbformat_minor": 5
}
