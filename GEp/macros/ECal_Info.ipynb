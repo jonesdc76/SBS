{
 "cells": [
  {
   "cell_type": "code",
   "execution_count": 1,
   "id": "c0d16a10",
   "metadata": {},
   "outputs": [],
   "source": [
    "import tkinter as tk  # Importing gui module\n",
    "import tkinter.font as tkfont\n",
    "def button_function(text):  # The function that the button will run\n",
    "    print(\"I am \" + text)\n",
    "width = 1\n",
    "height = 8\n",
    "\n",
    "nS8rows = 18\n",
    "nS8cols = 15\n",
    "\n",
    "rowlen = [9,11,11,13,15,15,15,15,15,15,15,15,15,15,13,11,11,9]\n",
    "rowoffset = [0,0,0,0,1,1,1,1,1,1,1,1,1,1,0,0,0,0]\n"
   ]
  },
  {
   "cell_type": "code",
   "execution_count": 2,
   "id": "e900f2b7",
   "metadata": {},
   "outputs": [
    {
     "name": "stdout",
     "output_type": "stream",
     "text": [
      "c3\n",
      "c3\n"
     ]
    }
   ],
   "source": [
    "ecal=tk.Tk()\n",
    "ecal.title(\"ECal Groups of 8 PMTs\")\n",
    "ecal.geometry(\"650x800\")\n",
    "#pixelVirtual = tk.PhotoImage(width=1, height=1)\n",
    "buttons=[]\n",
    "labels=[]\n",
    "names=[]\n",
    "y = nS8rows\n",
    "idx = 0\n",
    "for rl in rowlen:\n",
    "    y = y - 1     \n",
    "    for x in range(rowoffset[nS8rows-y-1],rl):\n",
    "        txt = \"{}{}\".format(rowlabel[nS8rows-y-1],x+1)\n",
    "        names.append(txt)\n",
    "        button = tk.Button(ecal,text='-',padx=width,pady=height,command=lambda u=txt:button_function(u),fg='blue',bg='black')\n",
    "        button.config(bg='black')\n",
    "        button.grid(row=y,column=x)\n",
    "        buttons.append(button)\n",
    "        label = tk.Label(ecal, text=txt, font=(\"Arial\",10))\n",
    "        label.config(bg='white')\n",
    "        label.config(fg=\"black\")\n",
    "        label.grid(row=y,column=x)\n",
    "        labels.append(label)\n",
    "        idx = idx +1\n",
    "\n",
    "ecal.mainloop()"
   ]
  },
  {
   "cell_type": "code",
   "execution_count": 4,
   "id": "e8c12785",
   "metadata": {},
   "outputs": [
    {
     "name": "stdout",
     "output_type": "stream",
     "text": [
      "5\n"
     ]
    }
   ],
   "source": [
    "print(len(anames))"
   ]
  },
  {
   "cell_type": "code",
   "execution_count": null,
   "id": "889fc822",
   "metadata": {},
   "outputs": [],
   "source": []
  }
 ],
 "metadata": {
  "kernelspec": {
   "display_name": "Python 3 (ipykernel)",
   "language": "python",
   "name": "python3"
  },
  "language_info": {
   "codemirror_mode": {
    "name": "ipython",
    "version": 3
   },
   "file_extension": ".py",
   "mimetype": "text/x-python",
   "name": "python",
   "nbconvert_exporter": "python",
   "pygments_lexer": "ipython3",
   "version": "3.10.4"
  }
 },
 "nbformat": 4,
 "nbformat_minor": 5
}
